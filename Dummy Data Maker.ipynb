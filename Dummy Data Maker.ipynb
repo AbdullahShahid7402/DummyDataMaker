{
 "cells": [
  {
   "cell_type": "code",
   "execution_count": null,
   "metadata": {},
   "outputs": [],
   "source": [
    "import os\n",
    "import shutil\n",
    "\n",
    "def fill_disk_space(directory, size_to_fill):\n",
    "    try:\n",
    "        # Check available space\n",
    "        free_space = shutil.disk_usage(directory).free\n",
    "        if free_space < size_to_fill:\n",
    "            print(\"Not enough free space available.\")\n",
    "            return\n",
    "\n",
    "        # Create a file to fill up the disk space\n",
    "        temp_file_path = os.path.join(directory, \"temp_file\")\n",
    "        with open(temp_file_path, \"wb\") as temp_file:\n",
    "            chunk_size = 1024 * 1024  # 1 MB chunk size\n",
    "            bytes_written = 0\n",
    "            while bytes_written < size_to_fill:\n",
    "                bytes_to_write = min(chunk_size, size_to_fill - bytes_written)\n",
    "                temp_file.write(os.urandom(bytes_to_write))\n",
    "                bytes_written += bytes_to_write\n",
    "                print(f\"Progress: {bytes_written / 1024 / 1024} MB / {size_to_fill / 1024 / 1024} MB\")\n",
    "\n",
    "        print(\"Disk space filled successfully.\")\n",
    "    except Exception as e:\n",
    "        print(f\"Error: {e}\")\n",
    "\n",
    "val = input(\"enter the value: \")\n",
    "val = int(val);\n",
    "typ = input(\"enter datatype in caps: \")\n",
    "if(typ == \"KB\"):\n",
    "    val*= 1024;\n",
    "if(typ == \"MB\"):\n",
    "    val*= 1024 * 1024;\n",
    "if(typ == \"GB\"):\n",
    "    val*= 1024 * 1024 * 1024;\n",
    "# Example usage: fill 1 GB of free disk space in the current directory\n",
    "fill_disk_space(\".\", val)\n"
   ]
  }
 ],
 "metadata": {
  "kernelspec": {
   "display_name": "Python 3 (ipykernel)",
   "language": "python",
   "name": "python3"
  },
  "language_info": {
   "codemirror_mode": {
    "name": "ipython",
    "version": 3
   },
   "file_extension": ".py",
   "mimetype": "text/x-python",
   "name": "python",
   "nbconvert_exporter": "python",
   "pygments_lexer": "ipython3",
   "version": "3.11.1"
  }
 },
 "nbformat": 4,
 "nbformat_minor": 2
}
